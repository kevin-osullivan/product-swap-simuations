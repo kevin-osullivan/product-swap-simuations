{
 "cells": [
  {
   "cell_type": "code",
   "execution_count": 1,
   "id": "d81ecf0f-6cd3-44af-a662-128ab3324360",
   "metadata": {
    "tags": []
   },
   "outputs": [],
   "source": [
    "import numpy as np\n",
    "import pandas as pd\n",
    "import matplotlib.pyplot as plt\n",
    "import os\n",
    "import xlrd\n",
    "from scipy.stats import ttest_ind, f_oneway, percentileofscore, shapiro\n",
    "import math\n",
    "from datetime import datetime, timedelta\n",
    "import constants\n",
    "import functions\n",
    "import modelling_functions\n",
    "from numpy.random import randn\n",
    "import matplotlib.ticker as mtick\n",
    "\n",
    "import importlib\n",
    "importlib.reload(constants)\n",
    "importlib.reload(functions)\n",
    "importlib.reload(modelling_functions)\n",
    "\n",
    "import sys\n",
    "sys.path.insert(0,'..')\n",
    "import analysis_utils\n",
    "\n",
    "%matplotlib inline\n",
    "\n",
    "import matplotlib.pyplot as plt\n",
    "import numpy as np\n",
    "\n",
    "bls_codes= pd.read_csv('../../data/zhaw_lca/bls_codes_14_07.csv').set_index('BLS_Code')"
   ]
  },
  {
   "cell_type": "markdown",
   "id": "3d1265f8-f4fd-49e4-8d66-e68874bb5758",
   "metadata": {},
   "source": [
    "# 1. Load Data"
   ]
  },
  {
   "cell_type": "code",
   "execution_count": 2,
   "id": "3904f6d6-0933-48fb-8fb6-cbc7169b17a4",
   "metadata": {},
   "outputs": [
    {
     "name": "stderr",
     "output_type": "stream",
     "text": [
      "/opt/homebrew/Caskroom/miniforge/base/envs/cenv/lib/python3.9/site-packages/IPython/core/interactiveshell.py:3361: DtypeWarning: Columns (38,40,41,42) have mixed types.Specify dtype option on import or set low_memory=False.\n",
      "  if (await self.run_code(code, result,  async_=asy)):\n"
     ]
    },
    {
     "name": "stdout",
     "output_type": "stream",
     "text": [
      "Number of households:  462\n"
     ]
    }
   ],
   "source": [
    "user_dataset, user_purchases_dataset, purchases_dataset, user_purchase_summary_dataset = analysis_utils.get_datasets(constants.dataset_filename_prefix2)\n",
    "\n",
    "print('Number of households: ', user_purchase_summary_dataset.r2n_user.nunique())"
   ]
  },
  {
   "cell_type": "markdown",
   "id": "83a8c606-125f-40d4-8432-1968b769b948",
   "metadata": {},
   "source": [
    "# 2. Exclusion Criteria\n",
    "First, we remove households that don't meet the criteria:\n",
    "* On average at least 1 shopping day every 2 weeks\n",
    "* At least 1 year of shopping history"
   ]
  },
  {
   "cell_type": "code",
   "execution_count": 3,
   "id": "c51d5e76-01ab-4488-8c55-9608eb6e123b",
   "metadata": {},
   "outputs": [
    {
     "name": "stdout",
     "output_type": "stream",
     "text": [
      "Number of households:  347\n"
     ]
    }
   ],
   "source": [
    "exclusion_conditions = (\n",
    "    (user_purchase_summary_dataset.shopping_frequency_per_week >= 0.5) \n",
    "    & (user_purchase_summary_dataset.receipt_history_duration_days >= 365)    \n",
    ")\n",
    "\n",
    "working_user_dataset, working_user_purchases_dataset = analysis_utils.implement_exclusion_criteria(user_purchase_summary_dataset,purchases_dataset,exclusion_conditions)\n",
    "working_user_dataset = working_user_dataset.sort_values(by='user_total_gwp100_normalised_1000kcal', ascending=False)\n",
    "\n",
    "print('Number of households: ', working_user_purchases_dataset.r2n_user.nunique())"
   ]
  },
  {
   "cell_type": "code",
   "execution_count": 4,
   "id": "fe3ad7d2-df78-4c4f-a5ec-e1b65e5b4d53",
   "metadata": {},
   "outputs": [],
   "source": [
    "def update_emissions(minor, quantity_in_kg_or_litres, emissions, actual_kcal):\n",
    "\n",
    "    substitution_percentage = 1\n",
    "    weight_to_substitute = quantity_in_kg_or_litres*substitution_percentage\n",
    "\n",
    "    if minor == 'Milk':\n",
    "        # substitute\n",
    "        # V-Love Bio · Oat drink · Barista. 610 kcal per litre or kg.\n",
    "        # 'Plant-based drinks'\n",
    "        return emissions*(1-substitution_percentage) + bls_codes.loc['ZZ98', 'GWP100 (kg CO2-eq./kg)'] * weight_to_substitute\n",
    "        \n",
    "\n",
    "    elif minor == 'Milk and yoghurt drinks':\n",
    "        # substitute\n",
    "        # V-Love · Vegurt · Coconut-Nature. 1050 kcal per kg\n",
    "        # 'Plant-based drinks'\n",
    "        return emissions*(1-substitution_percentage) + bls_codes.loc['ZZ119', 'GWP100 (kg CO2-eq./kg)'] * weight_to_substitute\n",
    "        \n",
    "\n",
    "    elif minor == 'Yogurt and sour milk':\n",
    "        # substitute\n",
    "        # V-Love · Vegurt · Coconut-Nature. 1050 kcal per kg\n",
    "        # 'Plant-based drinks'\n",
    "        return emissions*(1-substitution_percentage) + bls_codes.loc['ZZ119', 'GWP100 (kg CO2-eq./kg)'] * weight_to_substitute\n",
    "        \n",
    "\n",
    "    elif minor == 'Cheese':\n",
    "        # substitute\n",
    "        # V-Love The Classic · Plant-based alternative to cheese · with lupines. 2580 kcal / kg\n",
    "        return emissions*(1-substitution_percentage) + bls_codes.loc['ZZ117', 'GWP100 (kg CO2-eq./kg)'] * weight_to_substitute\n",
    "        \n",
    "\n",
    "    elif minor == 'Soft cheese' :\n",
    "        # substitute\n",
    "        # V-Love The Softy · Vegetable alternative to Camembert · Plain. 3520 kcal/kg\n",
    "        return emissions*(1-substitution_percentage) + bls_codes.loc['ZZ115', 'GWP100 (kg CO2-eq./kg)'] * weight_to_substitute\n",
    "        \n",
    "\n",
    "    elif minor == 'Cheese products' :\n",
    "        # substitute\n",
    "        # V-Love The Classic · Plant-based alternative to cheese · with lupines. 2580 kcal / kg\n",
    "        return emissions*(1-substitution_percentage) + bls_codes.loc['ZZ117', 'GWP100 (kg CO2-eq./kg)'] * weight_to_substitute\n",
    "        \n",
    "\n",
    "\n",
    "    elif minor == 'Cream cheese and cottage cheese':\n",
    "        # substitute\n",
    "        # V-Love The Cottage Cubes · Vegetable alternative to cottage cheese · with chives. 1240 kcal / kg\n",
    "        return emissions*(1-substitution_percentage) + bls_codes.loc['ZZ114', 'GWP100 (kg CO2-eq./kg)'] * weight_to_substitute\n",
    "        \n",
    "\n",
    "    elif minor == 'Butter and margarine':\n",
    "        # substitute\n",
    "        # margarine. 7200 kcal / kg\n",
    "        return emissions*(1-substitution_percentage) + bls_codes.loc['Q400000', 'GWP100 (kg CO2-eq./kg)'] * weight_to_substitute\n",
    "        \n",
    "\n",
    "    elif minor == 'Cream':\n",
    "        # substitute\n",
    "        # V-Love · Plant-based Cuisine. 2750 kcal / kg\n",
    "        return emissions*(1-substitution_percentage) + bls_codes.loc['ZZ113', 'GWP100 (kg CO2-eq./kg)'] * weight_to_substitute\n",
    "        \n",
    "\n",
    "    elif minor == 'Sausage':\n",
    "        # substitute\n",
    "        # V-Love Plant-Based Würstchen. 2220 kcal / kg\n",
    "        # 'Vegetarian meat alternatives'\n",
    "        return emissions*(1-substitution_percentage) + bls_codes.loc['ZZ123', 'GWP100 (kg CO2-eq./kg)'] * weight_to_substitute\n",
    "        \n",
    "\n",
    "    elif minor == 'Meat sliced' :\n",
    "        # substitute\n",
    "        # V-Love · Vegetable alternative to cold cuts spicy · Vegan. 2290 kcal / kg\n",
    "        return emissions*(1-substitution_percentage) + bls_codes.loc['ZZ123', 'GWP100 (kg CO2-eq./kg)'] * weight_to_substitute\n",
    "        \n",
    "\n",
    "    elif minor == 'Beef' :\n",
    "        # substitute\n",
    "        # V-Love · Vegetable minced meat · Vegan. 1760 kcal / kg\n",
    "        # 'Vegetarian meat alternatives'\n",
    "        return emissions*(1-substitution_percentage) + bls_codes.loc['ZZ123', 'GWP100 (kg CO2-eq./kg)'] * weight_to_substitute\n",
    "        \n",
    "\n",
    "    elif minor == 'Poultry' :\n",
    "        # substitute\n",
    "        # V-Love · Nuggets · Vegan. 2360 kcal / kg\n",
    "        return emissions*(1-substitution_percentage) + bls_codes.loc['WW2', 'GWP100 (kg CO2-eq./kg)'] * weight_to_substitute\n",
    "        \n",
    "\n",
    "    elif minor == 'Veal':\n",
    "        # substitute\n",
    "        # V-Love · Vegetable minced meat · Vegan. 1760 kcal / kg\n",
    "        return emissions*(1-substitution_percentage) + bls_codes.loc['ZZ123', 'GWP100 (kg CO2-eq./kg)'] * weight_to_substitute\n",
    "        \n",
    "\n",
    "    elif minor == 'Pork' :\n",
    "\n",
    "        # substitute\n",
    "        # V-Love · Delicious pieces · Vegan. 1690 kcal / kg\n",
    "        return emissions*(1-substitution_percentage) + bls_codes.loc['ZZ122', 'GWP100 (kg CO2-eq./kg)'] * weight_to_substitute\n",
    "        \n",
    "\n",
    "    elif minor in ['Fish products','Marine fish','Freshwater fish', 'Seafood, crustaceans and shellfish']:\n",
    "\n",
    "        # substitute\n",
    "        # V-Love · Sticks · Vegan. 2300 kcal / kg\n",
    "        return emissions*(1-substitution_percentage) + bls_codes.loc['ZZ124', 'GWP100 (kg CO2-eq./kg)'] * weight_to_substitute\n",
    "        \n",
    "\n",
    "\n",
    "    elif minor in ['Other types of meat', 'Lamb & sheep', 'Venison']:\n",
    "        # substitute\n",
    "        # V-Love · Sticks · Vegan. 2300 kcal / kg\n",
    "        return emissions*(1-substitution_percentage) + bls_codes.loc['ZZ124', 'GWP100 (kg CO2-eq./kg)'] * weight_to_substitute        \n",
    "\n",
    "    else:\n",
    "        return emissions"
   ]
  },
  {
   "cell_type": "code",
   "execution_count": 5,
   "id": "15b9ee2a-bc85-4532-a950-b579dc5f30b7",
   "metadata": {},
   "outputs": [],
   "source": [
    "df = working_user_purchases_dataset.copy()\n",
    "\n",
    "df['emissions'] = df['Total GWP100']\n",
    "df['new_emissions'] = df['emissions']\n",
    "df['new_emissions'] = df.apply(lambda row: update_emissions(row.minor, row.quantity_in_kg_or_litres, row.emissions, row.actual_kcal), axis=1)"
   ]
  },
  {
   "cell_type": "markdown",
   "id": "b8e34c57-26b7-4cde-8c30-4f12e262fc4e",
   "metadata": {},
   "source": [
    "# Swap simulations"
   ]
  },
  {
   "cell_type": "code",
   "execution_count": 6,
   "id": "0497f0a8-8772-4a83-9cd1-a135bd444bae",
   "metadata": {},
   "outputs": [],
   "source": [
    "df_household = df.groupby(by='r2n_user', dropna=False).sum()\n",
    "\n",
    "df_household['emissions_reduction_everything'] = 1 - df_household['new_emissions']/df_household['emissions']\n",
    "\n",
    "df_household = df_household.rename(columns={'emissions': 'previous_emissions',                                            \n",
    "                                            'new_emissions':'new_emissions_everything'})\n",
    "\n",
    "df_household = df_household[['quantity_in_kg_or_litres', 'previous_emissions', 'new_emissions_everything', 'emissions_reduction_everything',]]"
   ]
  },
  {
   "cell_type": "code",
   "execution_count": 7,
   "id": "d31b52e3-40e2-4ac9-a06c-9d36704ea5a9",
   "metadata": {},
   "outputs": [],
   "source": [
    "def analyse_substitution(grouping):\n",
    "    \n",
    "\n",
    "    household_ids = []\n",
    "    \n",
    "    previous_emissions_list = []\n",
    "    previous_kcals_list = []\n",
    "    \n",
    "    emissions_reduction_1grouping = []\n",
    "    emissions_reduction_2grouping = []\n",
    "    emissions_reduction_3grouping = []\n",
    "\n",
    "    emissions_reduction_per_kcal_1grouping = []\n",
    "    emissions_reduction_per_kcal_2grouping = []\n",
    "    emissions_reduction_per_kcal_3grouping = []\n",
    "    \n",
    "    grouping1_highest_emissions_list = []\n",
    "    grouping2_highest_emissions_list = []\n",
    "    grouping3_highest_emissions_list = []\n",
    "    \n",
    "    grouping1_highest_emissions_emissions_percentage_list = []\n",
    "    grouping2_highest_emissions_emissions_percentage_list = []\n",
    "    grouping3_highest_emissions_emissions_percentage_list = []\n",
    "    \n",
    "    grouping1_highest_emissions_kcals_percentage_list = []\n",
    "    grouping2_highest_emissions_kcals_percentage_list = []\n",
    "    grouping3_highest_emissions_kcals_percentage_list = []\n",
    "\n",
    "    grouping1_highest_substituted_list = []\n",
    "    grouping2_highest_substituted_list = []\n",
    "    grouping3_highest_substituted_list = []\n",
    "    \n",
    "    grouping1_highest_substituted_emissions_percentage_list = []\n",
    "    grouping2_highest_substituted_emissions_percentage_list = []\n",
    "    grouping3_highest_substituted_emissions_percentage_list = []\n",
    "    \n",
    "    grouping1_highest_substituted_kcals_percentage_list = []\n",
    "    grouping2_highest_substituted_kcals_percentage_list = []\n",
    "    grouping3_highest_substituted_kcals_percentage_list = []\n",
    "\n",
    "\n",
    "    new_emissions_1grouping = []\n",
    "    new_emissions_2grouping = []\n",
    "    new_emissions_3grouping = []\n",
    "    new_emissions_4grouping = []\n",
    "    new_emissions_5grouping = []\n",
    "\n",
    "    df_household_grouping = df.groupby(by=['r2n_user', grouping], dropna=False).sum()\n",
    "    df_household_grouping['emissions_reduction'] = 1 - df_household_grouping['new_emissions']/df_household_grouping['emissions']\n",
    "    df_household_grouping['emissions_diff'] = df_household_grouping['emissions'] - df_household_grouping['new_emissions']\n",
    "    df_household_grouping = df_household_grouping.sort_values(by='emissions_diff', ascending=False)\n",
    "    \n",
    "    df_household_grouping_diff_sorted = df_household_grouping.sort_values(by='emissions_diff', ascending=False)\n",
    "    df_household_grouping_emissions_sorted = df_household_grouping.sort_values(by='emissions', ascending=False)\n",
    "    \n",
    "    for household in df_household.index:\n",
    "        household_ids.append(household)\n",
    "        previous_emissions = df_household_grouping_emissions_sorted.loc[household].emissions.sum()\n",
    "\n",
    "        previous_emissions_list.append(previous_emissions)\n",
    "\n",
    "        grouping1_highest_emissions_list.append(df_household_grouping_emissions_sorted.loc[household].index[0])\n",
    "        grouping1_highest_substituted_list.append(df_household_grouping_diff_sorted.loc[household].index[0])\n",
    "        grouping1_highest_emissions_emissions_percentage_list.append(df_household_grouping_emissions_sorted.loc[household, 'emissions'][0] / df_household_grouping_emissions_sorted.loc[household, 'emissions'].sum())\n",
    "        grouping1_highest_substituted_emissions_percentage_list.append(df_household_grouping_diff_sorted.loc[household, 'emissions'][0] / df_household_grouping_diff_sorted.loc[household, 'emissions'].sum())\n",
    "        \n",
    "        grouping2_highest_emissions_list.append(df_household_grouping_emissions_sorted.loc[household].index[1])\n",
    "        grouping2_highest_substituted_list.append(df_household_grouping_diff_sorted.loc[household].index[1])\n",
    "        grouping2_highest_emissions_emissions_percentage_list.append(df_household_grouping_emissions_sorted.loc[household, 'emissions'][0:2].sum() / df_household_grouping_emissions_sorted.loc[household, 'emissions'].sum())\n",
    "        grouping2_highest_substituted_emissions_percentage_list.append(df_household_grouping_diff_sorted.loc[household, 'emissions'][0:2].sum() / df_household_grouping_diff_sorted.loc[household, 'emissions'].sum())\n",
    "        \n",
    "        grouping3_highest_emissions_list.append(df_household_grouping_emissions_sorted.loc[household].index[2])\n",
    "        grouping3_highest_substituted_list.append(df_household_grouping_diff_sorted.loc[household].index[2])\n",
    "        grouping3_highest_emissions_emissions_percentage_list.append(df_household_grouping_emissions_sorted.loc[household, 'emissions'][0:3].sum() / df_household_grouping_emissions_sorted.loc[household, 'emissions'].sum())\n",
    "        grouping3_highest_substituted_emissions_percentage_list.append(df_household_grouping_diff_sorted.loc[household, 'emissions'][0:3].sum() / df_household_grouping_diff_sorted.loc[household, 'emissions'].sum())       \n",
    "        \n",
    "        emissions_reduction_1grouping.append(df_household_grouping_diff_sorted.loc[household].emissions_diff[0].sum() / previous_emissions)\n",
    "        new_emissions_1grouping.append(previous_emissions - df_household_grouping_diff_sorted.loc[household].emissions_diff[0].sum())\n",
    "\n",
    "        emissions_reduction_2grouping.append(df_household_grouping_diff_sorted.loc[household].emissions_diff[0:2].sum() / previous_emissions)\n",
    "        new_emissions_2grouping.append(previous_emissions - df_household_grouping_diff_sorted.loc[household].emissions_diff[0:2].sum())\n",
    "\n",
    "        emissions_reduction_3grouping.append(df_household_grouping_diff_sorted.loc[household].emissions_diff[0:3].sum() / previous_emissions)\n",
    "        new_emissions_3grouping.append(previous_emissions - df_household_grouping_diff_sorted.loc[household].emissions_diff[0:3].sum())\n",
    "\n",
    "     \n",
    "    df_substitute_groupings = pd.DataFrame(index=household_ids, data={\n",
    "\n",
    "    'highest_emissions_1'+grouping: grouping1_highest_emissions_list,\n",
    "    'highest_potential_1'+grouping: grouping1_highest_substituted_list,\n",
    "    'highest_emissions_emissions_percentage_1'+grouping: grouping1_highest_emissions_emissions_percentage_list,\n",
    "    'highest_potential_emissions_percentage_1'+grouping: grouping1_highest_substituted_emissions_percentage_list,\n",
    "        \n",
    "    'highest_emissions_2'+grouping: grouping2_highest_emissions_list,\n",
    "    'highest_potential_2'+grouping: grouping2_highest_substituted_list,\n",
    "    'highest_emissions_emissions_percentage_2'+grouping: grouping2_highest_emissions_emissions_percentage_list,\n",
    "    'highest_potential_emissions_percentage_2'+grouping: grouping2_highest_substituted_emissions_percentage_list,\n",
    "        \n",
    "    'highest_emissions_3'+grouping: grouping3_highest_emissions_list,\n",
    "    'highest_potential_3'+grouping: grouping3_highest_substituted_list,\n",
    "    'highest_emissions_emissions_percentage_3'+grouping: grouping3_highest_emissions_emissions_percentage_list,\n",
    "    'highest_potential_emissions_percentage_3'+grouping: grouping3_highest_substituted_emissions_percentage_list,\n",
    "\n",
    "        \n",
    "    'new_emissions_1'+grouping: new_emissions_1grouping,\n",
    "    'emissions_reduction_1'+grouping: emissions_reduction_1grouping,\n",
    "\n",
    "    'new_emissions_2'+grouping: new_emissions_2grouping,\n",
    "    'emissions_reduction_2'+grouping: emissions_reduction_2grouping,\n",
    "\n",
    "    'new_emissions_3'+grouping: new_emissions_3grouping,\n",
    "    'emissions_reduction_3'+grouping: emissions_reduction_3grouping,\n",
    "\n",
    "    })\n",
    "    \n",
    "    return df_substitute_groupings"
   ]
  },
  {
   "cell_type": "code",
   "execution_count": 8,
   "id": "eaf3f11a-3eef-4980-8fae-c32aaa8c718f",
   "metadata": {},
   "outputs": [],
   "source": [
    "# (i.e. Generic Swap Recommedations - All meat and dairy)\n",
    "substitute_everything = df_household.copy()\n",
    "\n",
    "# (i.e. Personalised Swap Recommedations - highest emission food categories)\n",
    "substitute_r2i = analyse_substitution('r2i_category')"
   ]
  },
  {
   "cell_type": "markdown",
   "id": "29220d16-a6d3-4b9e-80e0-acff9e0d30c3",
   "metadata": {},
   "source": [
    "# Reduce Specific To A Basket Product (i.e. real-time swap recommendations)"
   ]
  },
  {
   "cell_type": "code",
   "execution_count": 9,
   "id": "527f61b8-a9e5-47ad-9084-673eb0e2770f",
   "metadata": {},
   "outputs": [
    {
     "name": "stderr",
     "output_type": "stream",
     "text": [
      "<ipython-input-9-9096e654f39a>:23: PerformanceWarning: indexing past lexsort depth may impact performance.\n",
      "  emissions = df_basket_product.loc[basket].emissions.sum()\n",
      "<ipython-input-9-9096e654f39a>:24: PerformanceWarning: indexing past lexsort depth may impact performance.\n",
      "  product_1_emissions_diff = df_basket_product.loc[basket].emissions_diff[0]\n",
      "<ipython-input-9-9096e654f39a>:25: PerformanceWarning: indexing past lexsort depth may impact performance.\n",
      "  product_2_emissions_diff = df_basket_product.loc[basket].emissions_diff[1]\n",
      "<ipython-input-9-9096e654f39a>:26: PerformanceWarning: indexing past lexsort depth may impact performance.\n",
      "  product_3_emissions_diff = df_basket_product.loc[basket].emissions_diff[2]\n",
      "<ipython-input-9-9096e654f39a>:32: RuntimeWarning: invalid value encountered in double_scalars\n",
      "  basket_emissions_reduction.append(product_1_emissions_diff/emissions)\n"
     ]
    }
   ],
   "source": [
    "df_basket_product = df.groupby(by=['receipt_datetime', 'r2n_user', 'product_name_de'], dropna=False).sum()\n",
    "df_basket_product['emissions_diff'] = df_basket_product['emissions'] - df_basket_product['new_emissions']\n",
    "df_basket_product = df_basket_product.sort_values(by=['receipt_datetime', 'r2n_user', 'emissions_diff'], ascending=False).reset_index(level='product_name_de')\n",
    "\n",
    "dates = []\n",
    "users = []\n",
    "emissions_diff_top_1products = []\n",
    "emissions_diff_top_2products = []\n",
    "emissions_diff_top_3products = []\n",
    "\n",
    "\n",
    "\n",
    "basket_emissions = []\n",
    "basket_emissions_reduction = []\n",
    "\n",
    "for basket in df_basket_product.index.unique():\n",
    "    date, user = basket\n",
    "    product_1_emissions_diff = 0\n",
    "    product_2_emissions_diff = 0\n",
    "    product_3_emissions_diff = 0\n",
    "    \n",
    "    try:\n",
    "        emissions = df_basket_product.loc[basket].emissions.sum()\n",
    "        product_1_emissions_diff = df_basket_product.loc[basket].emissions_diff[0]\n",
    "        product_2_emissions_diff = df_basket_product.loc[basket].emissions_diff[1]\n",
    "        product_3_emissions_diff = df_basket_product.loc[basket].emissions_diff[2]\n",
    "       \n",
    "    except:\n",
    "        None\n",
    "        \n",
    "    basket_emissions.append(emissions)\n",
    "    basket_emissions_reduction.append(product_1_emissions_diff/emissions)\n",
    "    dates.append(date)\n",
    "    users.append(user)\n",
    "    emissions_diff_top_1products.append(product_1_emissions_diff)\n",
    "    emissions_diff_top_2products.append(product_1_emissions_diff+product_2_emissions_diff)\n",
    "    emissions_diff_top_3products.append(product_1_emissions_diff+product_2_emissions_diff+product_3_emissions_diff) \n",
    "    \n",
    "basket_substitutions = pd.DataFrame(data={\n",
    "    'receipt_datetime':dates, \n",
    "    'r2n_user': users, \n",
    "    'basket_emissions_reduction': basket_emissions_reduction, \n",
    "    'basket_emissions': basket_emissions, \n",
    "    'emissions_diff_top1basketproduct':emissions_diff_top_1products, 'emissions_diff_top2basketproduct':emissions_diff_top_2products, 'emissions_diff_top3basketproduct':emissions_diff_top_3products\n",
    "})\n",
    "\n",
    "df_household_basket = df_household[['previous_emissions']].join(basket_substitutions.groupby(by='r2n_user').sum()[\n",
    "    ['emissions_diff_top1basketproduct', 'emissions_diff_top2basketproduct', 'emissions_diff_top3basketproduct', \n",
    "    ]])\n",
    "\n",
    "df_household_basket['new_emissions_top1basketproduct'] = df_household_basket.previous_emissions - df_household_basket.emissions_diff_top1basketproduct\n",
    "df_household_basket['new_emissions_top2basketproduct'] = df_household_basket.previous_emissions - df_household_basket.emissions_diff_top2basketproduct\n",
    "df_household_basket['new_emissions_top3basketproduct'] = df_household_basket.previous_emissions - df_household_basket.emissions_diff_top3basketproduct\n",
    "\n",
    "df_household_basket['emissions_reduction_top1basketproduct'] = 1 - df_household_basket['new_emissions_top1basketproduct']/df_household_basket['previous_emissions']\n",
    "df_household_basket['emissions_reduction_top2basketproduct'] = 1 - df_household_basket['new_emissions_top2basketproduct']/df_household_basket['previous_emissions']\n",
    "df_household_basket['emissions_reduction_top3basketproduct'] = 1 - df_household_basket['new_emissions_top3basketproduct']/df_household_basket['previous_emissions']\n",
    "\n",
    "df_household_basket = df_household_basket[\n",
    "    [\n",
    "        'new_emissions_top1basketproduct', 'emissions_reduction_top1basketproduct',\n",
    "        'new_emissions_top2basketproduct', 'emissions_reduction_top2basketproduct',\n",
    "        'new_emissions_top3basketproduct', 'emissions_reduction_top3basketproduct',\n",
    "    ]]\n"
   ]
  },
  {
   "cell_type": "code",
   "execution_count": 10,
   "id": "5c1a5299-1c04-4e97-971f-fbfd68b17582",
   "metadata": {},
   "outputs": [
    {
     "data": {
      "text/plain": [
       "count    73652.000000\n",
       "mean         0.196160\n",
       "std          0.216328\n",
       "min         -1.373516\n",
       "25%          0.000000\n",
       "50%          0.141497\n",
       "75%          0.309524\n",
       "max          0.973208\n",
       "Name: basket_emissions_reduction, dtype: float64"
      ]
     },
     "execution_count": 10,
     "metadata": {},
     "output_type": "execute_result"
    }
   ],
   "source": [
    "basket_substitutions.basket_emissions_reduction.describe()"
   ]
  },
  {
   "cell_type": "code",
   "execution_count": 11,
   "id": "78bac9de-685d-4f19-9505-1545b1059725",
   "metadata": {},
   "outputs": [
    {
     "data": {
      "text/plain": [
       "count    5.023900e+06\n",
       "mean     2.875773e+01\n",
       "std      2.057126e+01\n",
       "min     -1.373516e+02\n",
       "25%      1.346675e+01\n",
       "50%      2.355455e+01\n",
       "75%      3.949488e+01\n",
       "max      9.732079e+01\n",
       "Name: basket_emissions_reduction, dtype: float64"
      ]
     },
     "execution_count": 11,
     "metadata": {},
     "output_type": "execute_result"
    }
   ],
   "source": [
    "100*basket_substitutions.loc[basket_substitutions.basket_emissions_reduction != 0].basket_emissions_reduction.describe()"
   ]
  },
  {
   "cell_type": "code",
   "execution_count": 12,
   "id": "92869f8a-4b65-4150-8cfd-b8c2b494e639",
   "metadata": {},
   "outputs": [
    {
     "data": {
      "text/plain": [
       "False    68.215634\n",
       "True     31.784366\n",
       "Name: basket_emissions_reduction, dtype: float64"
      ]
     },
     "execution_count": 12,
     "metadata": {},
     "output_type": "execute_result"
    }
   ],
   "source": [
    "100*(basket_substitutions.basket_emissions_reduction == 0).value_counts() / len(basket_substitutions)"
   ]
  },
  {
   "cell_type": "code",
   "execution_count": 13,
   "id": "dd62b89b-c8d9-4dac-89e8-3360c4c5e334",
   "metadata": {},
   "outputs": [
    {
     "data": {
      "text/plain": [
       "False    0.998385\n",
       "True     0.001615\n",
       "Name: basket_emissions_reduction, dtype: float64"
      ]
     },
     "execution_count": 13,
     "metadata": {},
     "output_type": "execute_result"
    }
   ],
   "source": [
    "(basket_substitutions.basket_emissions_reduction < 0).value_counts() / len(basket_substitutions)"
   ]
  },
  {
   "cell_type": "code",
   "execution_count": 14,
   "id": "b9a7993b-9cb5-48b7-873e-313dfd7b7935",
   "metadata": {},
   "outputs": [
    {
     "data": {
      "text/plain": [
       "True     0.680405\n",
       "False    0.319595\n",
       "Name: basket_emissions_reduction, dtype: float64"
      ]
     },
     "execution_count": 14,
     "metadata": {},
     "output_type": "execute_result"
    }
   ],
   "source": [
    "(basket_substitutions.basket_emissions_reduction > 0).value_counts() / len(basket_substitutions)"
   ]
  },
  {
   "cell_type": "markdown",
   "id": "605d140b-2188-432f-b48b-d04f4e958433",
   "metadata": {},
   "source": [
    "# Reduce A Major Category (i.e. Generic Swap Recommedation, meat or dairy)"
   ]
  },
  {
   "cell_type": "code",
   "execution_count": 19,
   "id": "76215be0-3142-4836-b82c-c3ed37ba4a4c",
   "metadata": {},
   "outputs": [],
   "source": [
    "def substitute_1major_category(category, suffix):\n",
    "    df_substitute_major = df.groupby(by=['major','r2n_user'], dropna=False).sum()\n",
    "\n",
    "    df_substitute_major['emissions_diff'] = df_substitute_major['emissions'] - df_substitute_major['new_emissions']\n",
    "\n",
    "    df_substitute_major = df_household[['previous_emissions']].join(df_substitute_major.loc[category][['emissions_diff']])\n",
    "    df_substitute_major.loc[df_substitute_major.emissions_diff.isna(), 'emissions_diff'] = 0\n",
    "\n",
    "\n",
    "    df_substitute_major['new_emissions_' + suffix] = df_substitute_major.previous_emissions - df_substitute_major.emissions_diff\n",
    "    df_substitute_major['emissions_reduction_' + suffix] = 1 - df_substitute_major['new_emissions_' + suffix]/df_substitute_major['previous_emissions']\n",
    "\n",
    "    df_substitute_major = df_substitute_major[['new_emissions_' + suffix, 'emissions_reduction_' + suffix]]\n",
    "    return df_substitute_major\n"
   ]
  },
  {
   "cell_type": "code",
   "execution_count": 20,
   "id": "7ce1ff8e-1b8f-4fdf-8c21-605797590656",
   "metadata": {},
   "outputs": [],
   "source": [
    "# (i.e. Generic Swap Recommedation, meat)\n",
    "substitute_meat = substitute_1major_category('Meat and sausages', 'meat')\n",
    "# (i.e. Generic Swap Recommedation, dair)\n",
    "substitute_dairy = substitute_1major_category('Milk and milkproducts', 'dairy')"
   ]
  }
 ],
 "metadata": {
  "kernelspec": {
   "display_name": "Python 3",
   "language": "python",
   "name": "python3"
  },
  "language_info": {
   "codemirror_mode": {
    "name": "ipython",
    "version": 3
   },
   "file_extension": ".py",
   "mimetype": "text/x-python",
   "name": "python",
   "nbconvert_exporter": "python",
   "pygments_lexer": "ipython3",
   "version": "3.9.2"
  }
 },
 "nbformat": 4,
 "nbformat_minor": 5
}
